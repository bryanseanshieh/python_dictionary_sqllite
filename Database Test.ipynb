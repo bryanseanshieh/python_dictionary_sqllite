{
 "cells": [
  {
   "cell_type": "code",
   "execution_count": null,
   "metadata": {},
   "outputs": [],
   "source": [
    "# Import libraries\n",
    "\n",
    "# Import libraries\n",
    "import json\n",
    "import pandas\n",
    "import sqlite3"
   ]
  },
  {
   "cell_type": "code",
   "execution_count": null,
   "metadata": {},
   "outputs": [],
   "source": [
    "# Connect to database\n",
    "dbfname = 'Dictionary.db'\n",
    "conn = sqlite3.connect(dbfname)\n",
    "c = conn.cursor()\n",
    "print(\"Connection established!\")"
   ]
  },
  {
   "cell_type": "code",
   "execution_count": null,
   "metadata": {},
   "outputs": [],
   "source": [
    "t = c.execute('Select w.word, d.def_no, definition from  words w inner join definitions d on w.word_id = w.word_id where w.word_id in (42, 45, 83)').fetchall()\n",
    "t\n",
    "\n",
    "errors\n",
    "data['acceptable daily intake'][0]\n",
    "data['strength of materials'][0]\n",
    "data['waste exchange'][0]\n"
   ]
  },
  {
   "cell_type": "code",
   "execution_count": null,
   "metadata": {},
   "outputs": [],
   "source": [
    "lcSQL = \"\"\"\n",
    "SELECT w.word,\n",
    "    d.def_no,\n",
    "    definition\n",
    "FROM words w\n",
    "INNER JOIN definitions d\n",
    "    on w.word_id = d.word_id\n",
    "WHERE w.word_id in (42, 45, 83)\n",
    "    or w.word in ('acceptable daily intake', 'strength of materials', 'waste exchange')\n",
    "\"\"\"\n",
    "\n",
    "t = c.execute(lcSQL).fetchall()\n",
    "t"
   ]
  },
  {
   "cell_type": "code",
   "execution_count": null,
   "metadata": {},
   "outputs": [],
   "source": [
    "# Close connection\n",
    "conn.close()\n",
    "print(\"Connection closed!\")"
   ]
  }
 ],
 "metadata": {
  "kernelspec": {
   "display_name": "Python 3",
   "language": "python",
   "name": "python3"
  },
  "language_info": {
   "codemirror_mode": {
    "name": "ipython",
    "version": 3
   },
   "file_extension": ".py",
   "mimetype": "text/x-python",
   "name": "python",
   "nbconvert_exporter": "python",
   "pygments_lexer": "ipython3",
   "version": "3.7.0"
  }
 },
 "nbformat": 4,
 "nbformat_minor": 2
}
